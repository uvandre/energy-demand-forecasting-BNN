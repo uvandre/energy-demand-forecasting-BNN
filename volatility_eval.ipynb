{
 "cells": [
  {
   "cell_type": "code",
   "execution_count": 68,
   "id": "301a8ea3",
   "metadata": {},
   "outputs": [],
   "source": [
    "import pandas as pd"
   ]
  },
  {
   "cell_type": "code",
   "execution_count": 69,
   "id": "7e32f7e2",
   "metadata": {},
   "outputs": [],
   "source": [
    "country = 'NL'\n",
    "stdev = 3\n",
    "fontsize=16\n",
    "df = pd.read_csv(f'{country}_DA_price_v_actual_load_stdev_{stdev}.csv', index_col=0)\n"
   ]
  },
  {
   "cell_type": "code",
   "execution_count": 70,
   "id": "53c3a06f",
   "metadata": {},
   "outputs": [
    {
     "data": {
      "text/html": [
       "<div>\n",
       "<style scoped>\n",
       "    .dataframe tbody tr th:only-of-type {\n",
       "        vertical-align: middle;\n",
       "    }\n",
       "\n",
       "    .dataframe tbody tr th {\n",
       "        vertical-align: top;\n",
       "    }\n",
       "\n",
       "    .dataframe thead th {\n",
       "        text-align: right;\n",
       "    }\n",
       "</style>\n",
       "<table border=\"1\" class=\"dataframe\">\n",
       "  <thead>\n",
       "    <tr style=\"text-align: right;\">\n",
       "      <th></th>\n",
       "      <th>hour</th>\n",
       "      <th>day</th>\n",
       "      <th>month</th>\n",
       "      <th>season</th>\n",
       "      <th>DA Price</th>\n",
       "      <th>MW Load</th>\n",
       "    </tr>\n",
       "  </thead>\n",
       "  <tbody>\n",
       "    <tr>\n",
       "      <th>0</th>\n",
       "      <td>0</td>\n",
       "      <td>4</td>\n",
       "      <td>1</td>\n",
       "      <td>4</td>\n",
       "      <td>39.89</td>\n",
       "      <td>37212.0</td>\n",
       "    </tr>\n",
       "    <tr>\n",
       "      <th>1</th>\n",
       "      <td>1</td>\n",
       "      <td>4</td>\n",
       "      <td>1</td>\n",
       "      <td>4</td>\n",
       "      <td>33.26</td>\n",
       "      <td>34731.0</td>\n",
       "    </tr>\n",
       "    <tr>\n",
       "      <th>2</th>\n",
       "      <td>2</td>\n",
       "      <td>4</td>\n",
       "      <td>1</td>\n",
       "      <td>4</td>\n",
       "      <td>29.15</td>\n",
       "      <td>33076.0</td>\n",
       "    </tr>\n",
       "    <tr>\n",
       "      <th>3</th>\n",
       "      <td>3</td>\n",
       "      <td>4</td>\n",
       "      <td>1</td>\n",
       "      <td>4</td>\n",
       "      <td>25.63</td>\n",
       "      <td>32280.0</td>\n",
       "    </tr>\n",
       "    <tr>\n",
       "      <th>4</th>\n",
       "      <td>4</td>\n",
       "      <td>4</td>\n",
       "      <td>1</td>\n",
       "      <td>4</td>\n",
       "      <td>25.78</td>\n",
       "      <td>31990.0</td>\n",
       "    </tr>\n",
       "    <tr>\n",
       "      <th>...</th>\n",
       "      <td>...</td>\n",
       "      <td>...</td>\n",
       "      <td>...</td>\n",
       "      <td>...</td>\n",
       "      <td>...</td>\n",
       "      <td>...</td>\n",
       "    </tr>\n",
       "    <tr>\n",
       "      <th>61265</th>\n",
       "      <td>19</td>\n",
       "      <td>4</td>\n",
       "      <td>12</td>\n",
       "      <td>4</td>\n",
       "      <td>74.90</td>\n",
       "      <td>51371.0</td>\n",
       "    </tr>\n",
       "    <tr>\n",
       "      <th>61266</th>\n",
       "      <td>20</td>\n",
       "      <td>4</td>\n",
       "      <td>12</td>\n",
       "      <td>4</td>\n",
       "      <td>94.00</td>\n",
       "      <td>48371.0</td>\n",
       "    </tr>\n",
       "    <tr>\n",
       "      <th>61267</th>\n",
       "      <td>21</td>\n",
       "      <td>4</td>\n",
       "      <td>12</td>\n",
       "      <td>4</td>\n",
       "      <td>84.90</td>\n",
       "      <td>45490.0</td>\n",
       "    </tr>\n",
       "    <tr>\n",
       "      <th>61268</th>\n",
       "      <td>22</td>\n",
       "      <td>4</td>\n",
       "      <td>12</td>\n",
       "      <td>4</td>\n",
       "      <td>99.00</td>\n",
       "      <td>43853.0</td>\n",
       "    </tr>\n",
       "    <tr>\n",
       "      <th>61269</th>\n",
       "      <td>23</td>\n",
       "      <td>4</td>\n",
       "      <td>12</td>\n",
       "      <td>4</td>\n",
       "      <td>98.20</td>\n",
       "      <td>42679.0</td>\n",
       "    </tr>\n",
       "  </tbody>\n",
       "</table>\n",
       "<p>61270 rows × 6 columns</p>\n",
       "</div>"
      ],
      "text/plain": [
       "       hour  day  month  season  DA Price  MW Load\n",
       "0         0    4      1       4     39.89  37212.0\n",
       "1         1    4      1       4     33.26  34731.0\n",
       "2         2    4      1       4     29.15  33076.0\n",
       "3         3    4      1       4     25.63  32280.0\n",
       "4         4    4      1       4     25.78  31990.0\n",
       "...     ...  ...    ...     ...       ...      ...\n",
       "61265    19    4     12       4     74.90  51371.0\n",
       "61266    20    4     12       4     94.00  48371.0\n",
       "61267    21    4     12       4     84.90  45490.0\n",
       "61268    22    4     12       4     99.00  43853.0\n",
       "61269    23    4     12       4     98.20  42679.0\n",
       "\n",
       "[61270 rows x 6 columns]"
      ]
     },
     "execution_count": 70,
     "metadata": {},
     "output_type": "execute_result"
    }
   ],
   "source": [
    "df"
   ]
  },
  {
   "cell_type": "code",
   "execution_count": 71,
   "id": "8f8864bc",
   "metadata": {},
   "outputs": [
    {
     "data": {
      "text/plain": [
       "0         14.762539\n",
       "1         15.044660\n",
       "2         14.829582\n",
       "3         14.732056\n",
       "4         14.733663\n",
       "            ...    \n",
       "61142    206.496306\n",
       "61143    209.929556\n",
       "61144    212.615685\n",
       "61145    214.536909\n",
       "61146    214.139589\n",
       "Name: price_volatility, Length: 61147, dtype: float64"
      ]
     },
     "execution_count": 71,
     "metadata": {},
     "output_type": "execute_result"
    }
   ],
   "source": [
    "vol = pd.read_csv(f'{country}_volatility_stdev_{stdev}.csv')['price_volatility']\n",
    "vol"
   ]
  },
  {
   "cell_type": "code",
   "execution_count": 72,
   "id": "87aa39f0",
   "metadata": {},
   "outputs": [
    {
     "name": "stdout",
     "output_type": "stream",
     "text": [
      "61147\n"
     ]
    }
   ],
   "source": [
    "print(len(vol))"
   ]
  },
  {
   "cell_type": "code",
   "execution_count": 73,
   "id": "25f1247f",
   "metadata": {},
   "outputs": [],
   "source": [
    "import numpy as np\n",
    "import matplotlib.pyplot as plt\n",
    "NL_mapeloss = pd.read_csv('FINAL_RESULTS/MAPE_loss_pytorch/NL_3stdev_50000epochs_0.005lr_0pm_0.5ps_0.5dropoutkl_2400bs_7hn_3stdev.csv')\n",
    "NL_mapeloss['0']\n",
    "\n",
    "vol_arr = np.array(vol)\n",
    "nl_mape_arr = np.array(NL_mapeloss['0'])\n",
    "\n",
    "\n",
    "\n",
    "\n",
    "#plt.plot(vol['price_volatility'], )"
   ]
  },
  {
   "cell_type": "code",
   "execution_count": null,
   "id": "dcd74a69",
   "metadata": {},
   "outputs": [],
   "source": []
  },
  {
   "cell_type": "code",
   "execution_count": 74,
   "id": "32f55aa9",
   "metadata": {},
   "outputs": [
    {
     "name": "stdout",
     "output_type": "stream",
     "text": [
      "763\n",
      "0.1705593779222285\n",
      "[0.17055938 0.21907947 0.10536669]\n",
      "763\n"
     ]
    }
   ],
   "source": [
    "print(len(vol_arr[-len(nl_mape_arr):]))\n",
    "print(nl_mape_arr[-3])\n",
    "print(nl_mape_arr[-3:])\n",
    "print(len(nl_mape_arr))"
   ]
  },
  {
   "cell_type": "code",
   "execution_count": 75,
   "id": "8e6c6e34",
   "metadata": {},
   "outputs": [],
   "source": [
    "#full_df = pd.DataFrame(data={'MAPE':nl_mape_arr, \n",
    "#                                  'volatility':vol[-len(nl_mape_arr):]})\n",
    "full_df = pd.DataFrame()\n",
    "full_df['MAPE'] = nl_mape_arr\n",
    "full_df['volatility'] = vol_arr[-len(nl_mape_arr):].tolist()\n",
    "#full_df"
   ]
  },
  {
   "cell_type": "code",
   "execution_count": 76,
   "id": "c785e86b",
   "metadata": {},
   "outputs": [],
   "source": [
    "#full_df['volatility'] = vol[-len(nl_mape_arr):].to_list()"
   ]
  },
  {
   "cell_type": "code",
   "execution_count": 77,
   "id": "12c2302d",
   "metadata": {},
   "outputs": [
    {
     "data": {
      "text/html": [
       "<div>\n",
       "<style scoped>\n",
       "    .dataframe tbody tr th:only-of-type {\n",
       "        vertical-align: middle;\n",
       "    }\n",
       "\n",
       "    .dataframe tbody tr th {\n",
       "        vertical-align: top;\n",
       "    }\n",
       "\n",
       "    .dataframe thead th {\n",
       "        text-align: right;\n",
       "    }\n",
       "</style>\n",
       "<table border=\"1\" class=\"dataframe\">\n",
       "  <thead>\n",
       "    <tr style=\"text-align: right;\">\n",
       "      <th></th>\n",
       "      <th>MAPE</th>\n",
       "      <th>volatility</th>\n",
       "    </tr>\n",
       "  </thead>\n",
       "  <tbody>\n",
       "    <tr>\n",
       "      <th>0</th>\n",
       "      <td>0.208345</td>\n",
       "      <td>98.371732</td>\n",
       "    </tr>\n",
       "    <tr>\n",
       "      <th>1</th>\n",
       "      <td>0.152315</td>\n",
       "      <td>99.047558</td>\n",
       "    </tr>\n",
       "    <tr>\n",
       "      <th>2</th>\n",
       "      <td>0.117217</td>\n",
       "      <td>98.117989</td>\n",
       "    </tr>\n",
       "    <tr>\n",
       "      <th>3</th>\n",
       "      <td>0.132964</td>\n",
       "      <td>97.866787</td>\n",
       "    </tr>\n",
       "    <tr>\n",
       "      <th>4</th>\n",
       "      <td>0.172894</td>\n",
       "      <td>96.783598</td>\n",
       "    </tr>\n",
       "    <tr>\n",
       "      <th>...</th>\n",
       "      <td>...</td>\n",
       "      <td>...</td>\n",
       "    </tr>\n",
       "    <tr>\n",
       "      <th>758</th>\n",
       "      <td>0.250648</td>\n",
       "      <td>206.496306</td>\n",
       "    </tr>\n",
       "    <tr>\n",
       "      <th>759</th>\n",
       "      <td>0.170532</td>\n",
       "      <td>209.929556</td>\n",
       "    </tr>\n",
       "    <tr>\n",
       "      <th>760</th>\n",
       "      <td>0.170559</td>\n",
       "      <td>212.615685</td>\n",
       "    </tr>\n",
       "    <tr>\n",
       "      <th>761</th>\n",
       "      <td>0.219079</td>\n",
       "      <td>214.536909</td>\n",
       "    </tr>\n",
       "    <tr>\n",
       "      <th>762</th>\n",
       "      <td>0.105367</td>\n",
       "      <td>214.139589</td>\n",
       "    </tr>\n",
       "  </tbody>\n",
       "</table>\n",
       "<p>763 rows × 2 columns</p>\n",
       "</div>"
      ],
      "text/plain": [
       "         MAPE  volatility\n",
       "0    0.208345   98.371732\n",
       "1    0.152315   99.047558\n",
       "2    0.117217   98.117989\n",
       "3    0.132964   97.866787\n",
       "4    0.172894   96.783598\n",
       "..        ...         ...\n",
       "758  0.250648  206.496306\n",
       "759  0.170532  209.929556\n",
       "760  0.170559  212.615685\n",
       "761  0.219079  214.536909\n",
       "762  0.105367  214.139589\n",
       "\n",
       "[763 rows x 2 columns]"
      ]
     },
     "execution_count": 77,
     "metadata": {},
     "output_type": "execute_result"
    }
   ],
   "source": [
    "full_df"
   ]
  },
  {
   "cell_type": "code",
   "execution_count": 78,
   "id": "6ac975ed",
   "metadata": {},
   "outputs": [
    {
     "data": {
      "text/html": [
       "<div>\n",
       "<style scoped>\n",
       "    .dataframe tbody tr th:only-of-type {\n",
       "        vertical-align: middle;\n",
       "    }\n",
       "\n",
       "    .dataframe tbody tr th {\n",
       "        vertical-align: top;\n",
       "    }\n",
       "\n",
       "    .dataframe thead th {\n",
       "        text-align: right;\n",
       "    }\n",
       "</style>\n",
       "<table border=\"1\" class=\"dataframe\">\n",
       "  <thead>\n",
       "    <tr style=\"text-align: right;\">\n",
       "      <th></th>\n",
       "      <th>MAPE</th>\n",
       "      <th>volatility</th>\n",
       "    </tr>\n",
       "  </thead>\n",
       "  <tbody>\n",
       "    <tr>\n",
       "      <th>342</th>\n",
       "      <td>0.302176</td>\n",
       "      <td>20.110223</td>\n",
       "    </tr>\n",
       "    <tr>\n",
       "      <th>341</th>\n",
       "      <td>0.202476</td>\n",
       "      <td>20.777727</td>\n",
       "    </tr>\n",
       "    <tr>\n",
       "      <th>343</th>\n",
       "      <td>0.265896</td>\n",
       "      <td>22.627137</td>\n",
       "    </tr>\n",
       "    <tr>\n",
       "      <th>381</th>\n",
       "      <td>0.250168</td>\n",
       "      <td>23.302015</td>\n",
       "    </tr>\n",
       "    <tr>\n",
       "      <th>383</th>\n",
       "      <td>0.144031</td>\n",
       "      <td>23.472176</td>\n",
       "    </tr>\n",
       "    <tr>\n",
       "      <th>...</th>\n",
       "      <td>...</td>\n",
       "      <td>...</td>\n",
       "    </tr>\n",
       "    <tr>\n",
       "      <th>692</th>\n",
       "      <td>0.203881</td>\n",
       "      <td>331.289741</td>\n",
       "    </tr>\n",
       "    <tr>\n",
       "      <th>691</th>\n",
       "      <td>0.193435</td>\n",
       "      <td>331.630166</td>\n",
       "    </tr>\n",
       "    <tr>\n",
       "      <th>690</th>\n",
       "      <td>0.151564</td>\n",
       "      <td>331.928104</td>\n",
       "    </tr>\n",
       "    <tr>\n",
       "      <th>688</th>\n",
       "      <td>0.187206</td>\n",
       "      <td>332.046732</td>\n",
       "    </tr>\n",
       "    <tr>\n",
       "      <th>689</th>\n",
       "      <td>0.294715</td>\n",
       "      <td>332.660817</td>\n",
       "    </tr>\n",
       "  </tbody>\n",
       "</table>\n",
       "<p>763 rows × 2 columns</p>\n",
       "</div>"
      ],
      "text/plain": [
       "         MAPE  volatility\n",
       "342  0.302176   20.110223\n",
       "341  0.202476   20.777727\n",
       "343  0.265896   22.627137\n",
       "381  0.250168   23.302015\n",
       "383  0.144031   23.472176\n",
       "..        ...         ...\n",
       "692  0.203881  331.289741\n",
       "691  0.193435  331.630166\n",
       "690  0.151564  331.928104\n",
       "688  0.187206  332.046732\n",
       "689  0.294715  332.660817\n",
       "\n",
       "[763 rows x 2 columns]"
      ]
     },
     "execution_count": 78,
     "metadata": {},
     "output_type": "execute_result"
    }
   ],
   "source": [
    "full_df = full_df.sort_values('volatility')\n",
    "full_df"
   ]
  },
  {
   "cell_type": "code",
   "execution_count": 79,
   "id": "9de6d267",
   "metadata": {},
   "outputs": [
    {
     "data": {
      "text/plain": [
       "Text(0.5, 1.0, 'Bayesian NN')"
      ]
     },
     "execution_count": 79,
     "metadata": {},
     "output_type": "execute_result"
    },
    {
     "data": {
      "image/png": "[encoded data removed]",
      "text/plain": [
       "<Figure size 432x288 with 1 Axes>"
      ]
     },
     "metadata": {
      "needs_background": "light"
     },
     "output_type": "display_data"
    }
   ],
   "source": [
    "plt.scatter(full_df['volatility'], full_df['MAPE'], s=2.5)\n",
    "plt.xlabel('Volatility Euro/MW')\n",
    "plt.ylabel('MAPE')\n",
    "plt.title('Bayesian NN', fontdict={'fontsize': fontsize})"
   ]
  },
  {
   "cell_type": "code",
   "execution_count": 80,
   "id": "0f762ac6",
   "metadata": {},
   "outputs": [],
   "source": [
    "def MAPELoss2(output, target):\n",
    "    return np.mean(np.abs((target - output) / target))"
   ]
  },
  {
   "cell_type": "code",
   "execution_count": 81,
   "id": "27cbfd5e",
   "metadata": {},
   "outputs": [],
   "source": [
    "tf_labels = pd.read_csv('FINAL_RESULTS/tensorflow_results_csv/real_{country}_{stdev}stdev_{epochs}epochs_{lr}lr_{prior_mu}pm_{prior_sigma}ps_{kl_weight}kl_{batch_size}bs_{n_hidden_layers}hn_{stdev}stdev.csv')\n",
    "tf_pred = pd.read_csv('FINAL_RESULTS/tensorflow_results_csv/pred_{country}_{stdev}stdev_{epochs}epochs_{lr}lr_{prior_mu}pm_{prior_sigma}ps_{kl_weight}kl_{batch_size}bs_{n_hidden_layers}hn_{stdev}stdev.csv')"
   ]
  },
  {
   "cell_type": "code",
   "execution_count": 82,
   "id": "4eb1e4c0",
   "metadata": {},
   "outputs": [],
   "source": [
    "tf_label_arr = np.array(tf_labels['mw_load'])\n",
    "tf_pred_arr = np.array(tf_pred['mw_load'])"
   ]
  },
  {
   "cell_type": "code",
   "execution_count": 83,
   "id": "167293a2",
   "metadata": {},
   "outputs": [
    {
     "name": "stdout",
     "output_type": "stream",
     "text": [
      "0.12797181362160084\n"
     ]
    }
   ],
   "source": [
    "print(MAPELoss2(tf_pred_arr, tf_label_arr))\n"
   ]
  },
  {
   "cell_type": "code",
   "execution_count": 84,
   "id": "98bbe9a9",
   "metadata": {},
   "outputs": [
    {
     "name": "stdout",
     "output_type": "stream",
     "text": [
      "17281\n",
      "17281\n"
     ]
    }
   ],
   "source": [
    "print(len(tf_labels))\n",
    "print(len(tf_pred))\n",
    "\n",
    "tf_label_arr = tf_label_arr[-763:]\n",
    "tf_pred_arr = tf_pred_arr[-763:]"
   ]
  },
  {
   "cell_type": "code",
   "execution_count": null,
   "id": "e8eff474",
   "metadata": {},
   "outputs": [],
   "source": []
  },
  {
   "cell_type": "code",
   "execution_count": 85,
   "id": "94be71f8",
   "metadata": {},
   "outputs": [],
   "source": [
    "mape_losses = []\n",
    "for i in range(len(tf_label_arr)):\n",
    "    mape_losses.append(MAPELoss2(tf_label_arr[i], tf_pred_arr[i]))\n",
    "\n",
    "tf_df = pd.DataFrame()\n",
    "tf_df['MAPE'] = mape_losses\n",
    "tf_df['volatility'] = vol_arr[-len(mape_losses):]"
   ]
  },
  {
   "cell_type": "code",
   "execution_count": 86,
   "id": "67d4f4f9",
   "metadata": {},
   "outputs": [
    {
     "name": "stdout",
     "output_type": "stream",
     "text": [
      "61147\n",
      "763\n"
     ]
    }
   ],
   "source": [
    "print(len(vol_arr))\n",
    "print(len(mape_losses))"
   ]
  },
  {
   "cell_type": "code",
   "execution_count": 87,
   "id": "0c768358",
   "metadata": {},
   "outputs": [
    {
     "data": {
      "text/plain": [
       "Text(0.5, 1.0, 'Deep learning NN')"
      ]
     },
     "execution_count": 87,
     "metadata": {},
     "output_type": "execute_result"
    },
    {
     "data": {
      "image/png": "[encoded data removed]",
      "text/plain": [
       "<Figure size 432x288 with 1 Axes>"
      ]
     },
     "metadata": {
      "needs_background": "light"
     },
     "output_type": "display_data"
    }
   ],
   "source": [
    "tf_df = tf_df[tf_df['MAPE'] < 1]\n",
    "\n",
    "plt.scatter(tf_df['volatility'], tf_df['MAPE'], s=2.5)\n",
    "plt.xlabel('Volatility Euro/MW')\n",
    "plt.ylabel('MAPE')\n",
    "plt.title('Deep learning NN', fontdict={'fontsize': fontsize})"
   ]
  },
  {
   "cell_type": "code",
   "execution_count": 88,
   "id": "be5f9606",
   "metadata": {},
   "outputs": [
    {
     "data": {
      "text/plain": [
       "<matplotlib.collections.PathCollection at 0x1fb0cabb310>"
      ]
     },
     "execution_count": 88,
     "metadata": {},
     "output_type": "execute_result"
    },
    {
     "data": {
      "image/png": "[encoded data removed]",
      "text/plain": [
       "<Figure size 432x288 with 1 Axes>"
      ]
     },
     "metadata": {
      "needs_background": "light"
     },
     "output_type": "display_data"
    }
   ],
   "source": [
    "#tf_label_arr\n",
    "#tf_pred_arr\n",
    "plt.scatter(df['DA Price'][-len(tf_label_arr):], df['MW Load'][-len(tf_label_arr):])\n",
    "plt.scatter(df['DA Price'][-len(tf_label_arr):], tf_label_arr, c='r')\n",
    "plt.scatter(df['DA Price'][-len(tf_label_arr):], tf_pred_arr, c='g')\n"
   ]
  },
  {
   "cell_type": "code",
   "execution_count": 89,
   "id": "99e52289",
   "metadata": {},
   "outputs": [
    {
     "data": {
      "text/plain": [
       "1"
      ]
     },
     "execution_count": 89,
     "metadata": {},
     "output_type": "execute_result"
    }
   ],
   "source": [
    "df['hour'][1]"
   ]
  },
  {
   "cell_type": "code",
   "execution_count": 90,
   "id": "1e1d1beb",
   "metadata": {},
   "outputs": [],
   "source": [
    "\n",
    "fnn_labels = pd.read_csv('FINAL_RESULTS/FNN_reference_model_NL/labels.csv')\n",
    "fnn_preds = pd.read_csv('FINAL_RESULTS/FNN_reference_model_NL/prediction.csv')\n",
    "fnn_vals = pd.read_csv('FINAL_RESULTS/FNN_reference_model_NL/x_vals.csv')\n"
   ]
  },
  {
   "cell_type": "code",
   "execution_count": 91,
   "id": "7bb088ec",
   "metadata": {},
   "outputs": [],
   "source": [
    "fnn_labels_arr = np.array(fnn_labels['MW.Load'])[-763:]\n",
    "fnn_preds_arr = np.array(fnn_preds['predict_class'])[-763:]\n",
    "fnn_vals_arr = np.array(fnn_vals['DA.Price'])[-763:]\n",
    "\n",
    "fnn_labels_arr1 = np.array([])\n",
    "fnn_preds_arr1 = np.array([])\n",
    "fnn_vals_arr1 = np.array([])\n",
    "for i in range(len(fnn_labels_arr)):\n",
    "    if not fnn_vals_arr[i] <= 0:\n",
    "        fnn_labels_arr1 = np.append(fnn_labels_arr1, fnn_labels_arr[i])\n",
    "        fnn_preds_arr1 = np.append(fnn_preds_arr1, fnn_preds_arr[i])\n",
    "        fnn_vals_arr1 = np.append(fnn_vals_arr1, fnn_vals_arr[i])"
   ]
  },
  {
   "cell_type": "code",
   "execution_count": 92,
   "id": "5c4e7f00",
   "metadata": {},
   "outputs": [],
   "source": [
    "mape_losses_fnn = []\n",
    "\n",
    "\n",
    "for i in range(len(fnn_preds_arr)):\n",
    "    mape_losses_fnn.append(MAPELoss2(fnn_labels_arr[i], fnn_preds_arr[i]))\n"
   ]
  },
  {
   "cell_type": "code",
   "execution_count": 93,
   "id": "2c513060",
   "metadata": {},
   "outputs": [
    {
     "name": "stdout",
     "output_type": "stream",
     "text": [
      "763\n"
     ]
    }
   ],
   "source": [
    "print(len(mape_losses_fnn))"
   ]
  },
  {
   "cell_type": "code",
   "execution_count": 94,
   "id": "1eddd9b2",
   "metadata": {},
   "outputs": [
    {
     "data": {
      "text/plain": [
       "Text(0.5, 1.0, 'Functional NN')"
      ]
     },
     "execution_count": 94,
     "metadata": {},
     "output_type": "execute_result"
    },
    {
     "data": {
      "image/png": "[encoded data removed]",
      "text/plain": [
       "<Figure size 432x288 with 1 Axes>"
      ]
     },
     "metadata": {
      "needs_background": "light"
     },
     "output_type": "display_data"
    }
   ],
   "source": [
    "plt.scatter(tf_df['volatility'],mape_losses_fnn, s=2.5)\n",
    "plt.xlabel('Volatility Euro/MW')\n",
    "plt.ylabel('MAPE')\n",
    "plt.title('Functional NN', fontdict={'fontsize': fontsize})"
   ]
  },
  {
   "cell_type": "code",
   "execution_count": null,
   "id": "11cb2b27",
   "metadata": {},
   "outputs": [],
   "source": []
  }
 ],
 "metadata": {
  "kernelspec": {
   "display_name": "Python 3 (ipykernel)",
   "language": "python",
   "name": "python3"
  },
  "language_info": {
   "codemirror_mode": {
    "name": "ipython",
    "version": 3
   },
   "file_extension": ".py",
   "mimetype": "text/x-python",
   "name": "python",
   "nbconvert_exporter": "python",
   "pygments_lexer": "ipython3",
   "version": "3.9.7"
  }
 },
 "nbformat": 4,
 "nbformat_minor": 5
}
