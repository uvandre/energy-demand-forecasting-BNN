{
 "cells": [
  {
   "cell_type": "code",
   "execution_count": 44,
   "id": "530d5ede",
   "metadata": {},
   "outputs": [],
   "source": [
    "import pandas as pd\n",
    "import matplotlib.pyplot as plt"
   ]
  },
  {
   "cell_type": "code",
   "execution_count": 45,
   "id": "97e6338e",
   "metadata": {},
   "outputs": [],
   "source": [
    "df = pd.read_csv('DA_price_v_actual_load.csv', index_col=False)\n",
    "df = df[['hour', 'month', 'season', 'DA Price', 'MW Load']]"
   ]
  },
  {
   "cell_type": "code",
   "execution_count": 46,
   "id": "0f9ebf0e",
   "metadata": {},
   "outputs": [
    {
     "data": {
      "text/html": [
       "<div>\n",
       "<style scoped>\n",
       "    .dataframe tbody tr th:only-of-type {\n",
       "        vertical-align: middle;\n",
       "    }\n",
       "\n",
       "    .dataframe tbody tr th {\n",
       "        vertical-align: top;\n",
       "    }\n",
       "\n",
       "    .dataframe thead th {\n",
       "        text-align: right;\n",
       "    }\n",
       "</style>\n",
       "<table border=\"1\" class=\"dataframe\">\n",
       "  <thead>\n",
       "    <tr style=\"text-align: right;\">\n",
       "      <th></th>\n",
       "      <th>hour</th>\n",
       "      <th>month</th>\n",
       "      <th>season</th>\n",
       "      <th>DA Price</th>\n",
       "      <th>MW Load</th>\n",
       "    </tr>\n",
       "  </thead>\n",
       "  <tbody>\n",
       "    <tr>\n",
       "      <th>0</th>\n",
       "      <td>0</td>\n",
       "      <td>5</td>\n",
       "      <td>1</td>\n",
       "      <td>36.56</td>\n",
       "      <td>11475.75</td>\n",
       "    </tr>\n",
       "    <tr>\n",
       "      <th>1</th>\n",
       "      <td>1</td>\n",
       "      <td>5</td>\n",
       "      <td>1</td>\n",
       "      <td>34.94</td>\n",
       "      <td>10889.75</td>\n",
       "    </tr>\n",
       "    <tr>\n",
       "      <th>2</th>\n",
       "      <td>2</td>\n",
       "      <td>5</td>\n",
       "      <td>1</td>\n",
       "      <td>32.19</td>\n",
       "      <td>10459.75</td>\n",
       "    </tr>\n",
       "    <tr>\n",
       "      <th>3</th>\n",
       "      <td>3</td>\n",
       "      <td>5</td>\n",
       "      <td>1</td>\n",
       "      <td>28.05</td>\n",
       "      <td>10373.25</td>\n",
       "    </tr>\n",
       "    <tr>\n",
       "      <th>4</th>\n",
       "      <td>4</td>\n",
       "      <td>5</td>\n",
       "      <td>1</td>\n",
       "      <td>28.04</td>\n",
       "      <td>10550.25</td>\n",
       "    </tr>\n",
       "    <tr>\n",
       "      <th>...</th>\n",
       "      <td>...</td>\n",
       "      <td>...</td>\n",
       "      <td>...</td>\n",
       "      <td>...</td>\n",
       "      <td>...</td>\n",
       "    </tr>\n",
       "    <tr>\n",
       "      <th>52530</th>\n",
       "      <td>19</td>\n",
       "      <td>12</td>\n",
       "      <td>4</td>\n",
       "      <td>74.90</td>\n",
       "      <td>13397.50</td>\n",
       "    </tr>\n",
       "    <tr>\n",
       "      <th>52531</th>\n",
       "      <td>20</td>\n",
       "      <td>12</td>\n",
       "      <td>4</td>\n",
       "      <td>94.00</td>\n",
       "      <td>12887.00</td>\n",
       "    </tr>\n",
       "    <tr>\n",
       "      <th>52532</th>\n",
       "      <td>21</td>\n",
       "      <td>12</td>\n",
       "      <td>4</td>\n",
       "      <td>84.90</td>\n",
       "      <td>12307.25</td>\n",
       "    </tr>\n",
       "    <tr>\n",
       "      <th>52533</th>\n",
       "      <td>22</td>\n",
       "      <td>12</td>\n",
       "      <td>4</td>\n",
       "      <td>99.00</td>\n",
       "      <td>11780.00</td>\n",
       "    </tr>\n",
       "    <tr>\n",
       "      <th>52534</th>\n",
       "      <td>23</td>\n",
       "      <td>12</td>\n",
       "      <td>4</td>\n",
       "      <td>98.20</td>\n",
       "      <td>11229.75</td>\n",
       "    </tr>\n",
       "  </tbody>\n",
       "</table>\n",
       "<p>52535 rows × 5 columns</p>\n",
       "</div>"
      ],
      "text/plain": [
       "       hour  month  season  DA Price   MW Load\n",
       "0         0      5       1     36.56  11475.75\n",
       "1         1      5       1     34.94  10889.75\n",
       "2         2      5       1     32.19  10459.75\n",
       "3         3      5       1     28.05  10373.25\n",
       "4         4      5       1     28.04  10550.25\n",
       "...     ...    ...     ...       ...       ...\n",
       "52530    19     12       4     74.90  13397.50\n",
       "52531    20     12       4     94.00  12887.00\n",
       "52532    21     12       4     84.90  12307.25\n",
       "52533    22     12       4     99.00  11780.00\n",
       "52534    23     12       4     98.20  11229.75\n",
       "\n",
       "[52535 rows x 5 columns]"
      ]
     },
     "execution_count": 46,
     "metadata": {},
     "output_type": "execute_result"
    }
   ],
   "source": [
    "df"
   ]
  },
  {
   "cell_type": "code",
   "execution_count": 47,
   "id": "c9b582d1",
   "metadata": {},
   "outputs": [
    {
     "data": {
      "image/png": "[encoded data removed]",
      "text/plain": [
       "<Figure size 432x288 with 1 Axes>"
      ]
     },
     "metadata": {
      "needs_background": "light"
     },
     "output_type": "display_data"
    }
   ],
   "source": [
    "#df = df.drop(df[df['DA Price'] <= 0].index)\n",
    "\n",
    "#plt.hist(df['MW Load'], bins=12)\n",
    "\n",
    "plt.bar(df.month, df['MW Load'])\n",
    "plt.title('Average MW Load per month')\n",
    "plt.xlabel('Month')\n",
    "plt.ylabel('MW Load')\n",
    "plt.show()"
   ]
  },
  {
   "cell_type": "code",
   "execution_count": 48,
   "id": "a6ba9bf1",
   "metadata": {},
   "outputs": [
    {
     "data": {
      "image/png": "[encoded data removed]",
      "text/plain": [
       "<Figure size 432x288 with 1 Axes>"
      ]
     },
     "metadata": {
      "needs_background": "light"
     },
     "output_type": "display_data"
    }
   ],
   "source": [
    "season_dict = {1: 'spring', 2: 'summer', 3:'autumn', 4:'winter'}\n",
    "season_df = df.replace(season_dict, regex=True)\n",
    "plt.bar(season_df.season, season_df['MW Load'])\n",
    "plt.title('Average MW Load per season')\n",
    "plt.xlabel('Season')\n",
    "plt.ylabel('MW Load')\n",
    "plt.show()"
   ]
  },
  {
   "cell_type": "code",
   "execution_count": 49,
   "id": "709ea76c",
   "metadata": {},
   "outputs": [
    {
     "data": {
      "image/png": "[encoded data removed]",
      "text/plain": [
       "<Figure size 432x288 with 1 Axes>"
      ]
     },
     "metadata": {
      "needs_background": "light"
     },
     "output_type": "display_data"
    }
   ],
   "source": [
    "plt.bar(df.hour, season_df['MW Load'])\n",
    "plt.title('Average MW load per hour')\n",
    "plt.xlabel('Hour')\n",
    "plt.ylabel('MW Load')\n",
    "plt.show()"
   ]
  },
  {
   "cell_type": "code",
   "execution_count": 50,
   "id": "0c2030a8",
   "metadata": {},
   "outputs": [
    {
     "data": {
      "image/png": "[encoded data removed]",
      "text/plain": [
       "<Figure size 432x288 with 1 Axes>"
      ]
     },
     "metadata": {
      "needs_background": "light"
     },
     "output_type": "display_data"
    }
   ],
   "source": [
    "import numpy as np\n",
    "\n",
    "#plt.hist(season_df['MW Load'], bins=24)\n",
    "N = 24\n",
    "plt.hist(df['MW Load'].groupby(df['MW Load'].index // N).sum(), bins=100)\n",
    "plt.title('Total MW Load per 24 hours histogram')\n",
    "plt.show()\n"
   ]
  },
  {
   "cell_type": "code",
   "execution_count": 52,
   "id": "78d2b74b",
   "metadata": {},
   "outputs": [
    {
     "data": {
      "image/png": "[encoded data removed]",
      "text/plain": [
       "<Figure size 432x288 with 1 Axes>"
      ]
     },
     "metadata": {
      "needs_background": "light"
     },
     "output_type": "display_data"
    }
   ],
   "source": [
    "plt.hist(df['DA Price'].groupby(df['DA Price'].index // N).sum(), bins=20)\n",
    "plt.title('Total DA Price per 24 hours histogram')\n",
    "plt.show()"
   ]
  },
  {
   "cell_type": "code",
   "execution_count": null,
   "id": "306da7b1",
   "metadata": {},
   "outputs": [],
   "source": []
  }
 ],
 "metadata": {
  "kernelspec": {
   "display_name": "Python 3 (ipykernel)",
   "language": "python",
   "name": "python3"
  },
  "language_info": {
   "codemirror_mode": {
    "name": "ipython",
    "version": 3
   },
   "file_extension": ".py",
   "mimetype": "text/x-python",
   "name": "python",
   "nbconvert_exporter": "python",
   "pygments_lexer": "ipython3",
   "version": "3.9.7"
  }
 },
 "nbformat": 4,
 "nbformat_minor": 5
}
