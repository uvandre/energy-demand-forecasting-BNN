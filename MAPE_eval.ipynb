{
 "cells": [
  {
   "cell_type": "code",
   "execution_count": 173,
   "id": "5612827c",
   "metadata": {},
   "outputs": [],
   "source": [
    "import numpy as np\n",
    "import pandas as pd"
   ]
  },
  {
   "cell_type": "code",
   "execution_count": 174,
   "id": "d0d9b602",
   "metadata": {},
   "outputs": [],
   "source": [
    "import torch\n",
    "from torch import nn"
   ]
  },
  {
   "cell_type": "code",
   "execution_count": 175,
   "id": "ba785b86",
   "metadata": {},
   "outputs": [],
   "source": [
    "stdev = 3\n",
    "\n",
    "# NL, SE1, ES\n",
    "country = 'NL'\n",
    "\n",
    "\n",
    "df = pd.read_csv(f'{country}_DA_price_v_actual_load_stdev_{stdev}.csv', index_col=0)\n",
    "old_df = df.copy()\n",
    "df = df.drop(df[df['DA Price'] <= 0].index)\n",
    "\n",
    "train_len = int(len(df)*0.7)\n",
    "train_df = df[:train_len]\n",
    "train_df = train_df[['hour', 'day', 'month', 'DA Price', 'MW Load']]\n",
    "\n",
    "test_df = df.copy()"
   ]
  },
  {
   "cell_type": "code",
   "execution_count": 192,
   "id": "96669973",
   "metadata": {},
   "outputs": [
    {
     "data": {
      "text/plain": [
       "[<matplotlib.lines.Line2D at 0x15503e578e0>]"
      ]
     },
     "execution_count": 192,
     "metadata": {},
     "output_type": "execute_result"
    },
    {
     "data": {
      "image/png": "[encoded data removed]",
      "text/plain": [
       "<Figure size 432x288 with 1 Axes>"
      ]
     },
     "metadata": {
      "needs_background": "light"
     },
     "output_type": "display_data"
    }
   ],
   "source": [
    "import matplotlib.pyplot as plt\n",
    "\n",
    "plt.plot(df['DA Price'])"
   ]
  },
  {
   "cell_type": "code",
   "execution_count": 176,
   "id": "e1bec4de",
   "metadata": {},
   "outputs": [],
   "source": [
    "test_df = test_df[:-(len(test_df)%24)]\n",
    "test_df = test_df[['hour', 'day', 'month', 'DA Price', 'MW Load']]"
   ]
  },
  {
   "cell_type": "code",
   "execution_count": 177,
   "id": "e01f091b",
   "metadata": {},
   "outputs": [],
   "source": [
    "x_test_arr = np.array([test_df[['hour', 'day', 'month','DA Price']]])\n",
    "x_test = torch.tensor(x_test_arr).to(device='cpu')\n",
    "\n",
    "x_test = x_test.reshape((-1, 24, 4))\n",
    "\n",
    "y_test_arr = np.array([test_df[['MW Load']]])\n",
    "y_test = torch.tensor(y_test_arr).to(device='cpu').flatten()"
   ]
  },
  {
   "cell_type": "code",
   "execution_count": 178,
   "id": "7f35c320",
   "metadata": {},
   "outputs": [
    {
     "name": "stdout",
     "output_type": "stream",
     "text": [
      "Sequential(\n",
      "  (0): BayesLinear(prior_mu=0, prior_sigma=0.5, in_features=4, out_features=4, bias=True)\n",
      "  (1): ReLU()\n",
      "  (2): BayesLinear(prior_mu=0, prior_sigma=0.5, in_features=4, out_features=4, bias=True)\n",
      "  (3): ReLU()\n",
      "  (4): BayesLinear(prior_mu=0, prior_sigma=0.5, in_features=4, out_features=4, bias=True)\n",
      "  (5): ReLU()\n",
      "  (6): BayesLinear(prior_mu=0, prior_sigma=0.5, in_features=4, out_features=4, bias=True)\n",
      "  (7): ReLU()\n",
      "  (8): BayesLinear(prior_mu=0, prior_sigma=0.5, in_features=4, out_features=4, bias=True)\n",
      "  (9): Dropout(p=0.5, inplace=True)\n",
      "  (10): BayesLinear(prior_mu=0, prior_sigma=0.5, in_features=4, out_features=4, bias=True)\n",
      "  (11): ReLU()\n",
      "  (12): BayesLinear(prior_mu=0, prior_sigma=0.5, in_features=4, out_features=4, bias=True)\n",
      "  (13): ReLU()\n",
      "  (14): Flatten(start_dim=1, end_dim=-1)\n",
      "  (15): BayesLinear(prior_mu=0, prior_sigma=0.5, in_features=96, out_features=48, bias=True)\n",
      "  (16): ReLU()\n",
      "  (17): BayesLinear(prior_mu=0, prior_sigma=0.5, in_features=48, out_features=24, bias=True)\n",
      ")\n"
     ]
    }
   ],
   "source": [
    "PATH = 'FINAL_RESULTS/models/NL_3stdev_50000epochs_0.005lr_0pm_0.5ps_0.5dropoutkl_2400bs_7hn_3stdev.pth'\n",
    "PATH = 'FINAL_RESULTS/models/ES_3stdev_50000epochs_0.005lr_0pm_0.5ps_0.5dropoutkl_2400bs_7hn_3stdev.pth'\n",
    "PATH = 'FINAL_RESULTS/models/SE1_3stdev_2000epochs_0.01lr_0pm_0.5ps_0.5dropoutkl_2400bs_7hn_3stdev.pth'\n",
    "\n",
    "#\n",
    "PATH = 'FINAL_RESULTS/models/NL_3stdev_5000epochs_0.01lr_0pm_0.5ps_0.5dropoutkl_2400bs_7hn_3stdev.pth'\n",
    "\n",
    "PATH = 'FINAL_RESULTS/models/NL_3stdev_7000epochs_0.008lr_0pm_0.5ps_0.5dropoutkl_2400bs_7hn_3stdev.pth'\n",
    "\n",
    "model = torch.load(PATH)\n",
    "model.cpu()\n",
    "model.eval()\n",
    "print(model)"
   ]
  },
  {
   "cell_type": "code",
   "execution_count": 179,
   "id": "dbbfddaf",
   "metadata": {},
   "outputs": [],
   "source": [
    "def MAPELoss(output, target):\n",
    "    return torch.mean(torch.abs((target - output) / target))"
   ]
  },
  {
   "cell_type": "code",
   "execution_count": 180,
   "id": "8b5eabae",
   "metadata": {},
   "outputs": [
    {
     "name": "stdout",
     "output_type": "stream",
     "text": [
      "Pytorch MAPE loss ES 0.12849142540133918\n"
     ]
    }
   ],
   "source": [
    "y_pred = model(x_test).flatten()\n",
    "mape_loss = MAPELoss(y_pred, y_test)\n",
    "print(f'Pytorch MAPE loss ES {mape_loss}')\n"
   ]
  },
  {
   "cell_type": "code",
   "execution_count": 181,
   "id": "54ae89ee",
   "metadata": {},
   "outputs": [],
   "source": [
    "import pandas as pd\n",
    "import numpy as np\n",
    "import tensorflow as tf\n",
    "import tensorflow.keras.layers as layers\n",
    "import matplotlib.pyplot as plt\n",
    "import matplotlib as mpl\n",
    "from tqdm import tqdm"
   ]
  },
  {
   "cell_type": "code",
   "execution_count": 182,
   "id": "5d2deaeb",
   "metadata": {},
   "outputs": [
    {
     "name": "stdout",
     "output_type": "stream",
     "text": [
      "Model: \"sequential\"\n",
      "_________________________________________________________________\n",
      " Layer (type)                Output Shape              Param #   \n",
      "=================================================================\n",
      " dense (Dense)               (None, 24, 3)             12        \n",
      "                                                                 \n",
      " dense_1 (Dense)             (None, 24, 3)             12        \n",
      "                                                                 \n",
      " dense_2 (Dense)             (None, 24, 3)             12        \n",
      "                                                                 \n",
      " dense_3 (Dense)             (None, 24, 3)             12        \n",
      "                                                                 \n",
      " dense_4 (Dense)             (None, 24, 3)             12        \n",
      "                                                                 \n",
      " flatten (Flatten)           (None, 72)                0         \n",
      "                                                                 \n",
      " dense_5 (Dense)             (None, 36)                2628      \n",
      "                                                                 \n",
      " dense_6 (Dense)             (None, 24)                888       \n",
      "                                                                 \n",
      "=================================================================\n",
      "Total params: 3,576\n",
      "Trainable params: 3,576\n",
      "Non-trainable params: 0\n",
      "_________________________________________________________________\n"
     ]
    }
   ],
   "source": [
    "new_model = tf.keras.models.load_model('FINAL_RESULTS/TF_model_SE1')\n",
    "new_model.summary()"
   ]
  },
  {
   "cell_type": "code",
   "execution_count": 183,
   "id": "26d55fb5",
   "metadata": {},
   "outputs": [
    {
     "name": "stdout",
     "output_type": "stream",
     "text": [
      "       hour  day  DA Price\n",
      "0         0    4     39.89\n",
      "1         1    4     33.26\n",
      "2         2    4     29.15\n",
      "3         3    4     25.63\n",
      "4         4    4     25.78\n",
      "...     ...  ...       ...\n",
      "61245    23    3     55.65\n",
      "61246     0    4      5.71\n",
      "61247     1    4     26.15\n",
      "61248     2    4     25.12\n",
      "61251     5    4      0.04\n",
      "\n",
      "[61056 rows x 3 columns]\n"
     ]
    }
   ],
   "source": [
    "x_test = test_df[['hour', 'day', 'DA Price']]\n",
    "print(x_test)\n",
    "x_test = x_test.to_numpy()\n",
    "x_test = x_test.reshape((-1, 24, 3))\n",
    "y_pred_tf = new_model.predict(x_test)\n",
    "y_pred_tf = y_pred_tf.flatten()\n",
    "mape_loss_tf = MAPELoss(y_pred_tf, y_test)"
   ]
  },
  {
   "cell_type": "code",
   "execution_count": 184,
   "id": "7e6359df",
   "metadata": {},
   "outputs": [
    {
     "name": "stdout",
     "output_type": "stream",
     "text": [
      "Pytorch MAPE loss: 0.12849142540133918\n",
      "Tensorflow reference MAPE loss: 0.9783254684016468\n"
     ]
    }
   ],
   "source": [
    "print(f'Pytorch MAPE loss: {mape_loss}')\n",
    "print(f'Tensorflow reference MAPE loss: {mape_loss_tf}')"
   ]
  },
  {
   "cell_type": "code",
   "execution_count": 185,
   "id": "c8271971",
   "metadata": {},
   "outputs": [],
   "source": [
    "import pandas as pd\n",
    "NL_FNN_labels = pd.read_csv('FINAL_RESULTS/FNN_reference_model_NL/labels.csv')['MW.Load']\n",
    "NL_FNN_preds = pd.read_csv('FINAL_RESULTS/FNN_reference_model_NL/prediction.csv')['predict_class']\n",
    "NL_FNN_vals = pd.read_csv('FINAL_RESULTS/FNN_reference_model_NL/x_vals.csv')['DA.Price']"
   ]
  },
  {
   "cell_type": "code",
   "execution_count": 186,
   "id": "d6e6c0dd",
   "metadata": {},
   "outputs": [],
   "source": [
    "ES_FNN_labels = pd.read_csv('FINAL_RESULTS/FNN_reference_model_ES/labels.csv')['MW.Load']\n",
    "ES_FNN_preds = pd.read_csv('FINAL_RESULTS/FNN_reference_model_ES/prediction.csv')['predict_class']\n",
    "ES_FNN_vals = pd.read_csv('FINAL_RESULTS/FNN_reference_model_ES/x_vals.csv')['DA.Price']\n"
   ]
  },
  {
   "cell_type": "code",
   "execution_count": 187,
   "id": "a94a346c",
   "metadata": {},
   "outputs": [],
   "source": [
    "SE_FNN_labels = pd.read_csv('FINAL_RESULTS/FNN_reference_model_SE/labels.csv')['MW.Load']\n",
    "SE_FNN_preds = pd.read_csv('FINAL_RESULTS/FNN_reference_model_SE/prediction.csv')['predict_class']\n",
    "SE_FNN_vals = pd.read_csv('FINAL_RESULTS/FNN_reference_model_SE/x_vals.csv')['DA.Price']\n"
   ]
  },
  {
   "cell_type": "code",
   "execution_count": 188,
   "id": "ee4e5041",
   "metadata": {},
   "outputs": [],
   "source": [
    "def MAPELoss2(output, target):\n",
    "    return np.mean(np.abs((target - output) / target))\n"
   ]
  },
  {
   "cell_type": "code",
   "execution_count": 189,
   "id": "165b0551",
   "metadata": {},
   "outputs": [],
   "source": [
    "fnn_nl_mape = MAPELoss2(NL_FNN_preds, NL_FNN_labels)\n",
    "fnn_es_mape = MAPELoss2(ES_FNN_preds, ES_FNN_labels)\n",
    "fnn_se_mape = MAPELoss2(SE_FNN_preds, SE_FNN_labels)\n"
   ]
  },
  {
   "cell_type": "code",
   "execution_count": 190,
   "id": "825d7912",
   "metadata": {},
   "outputs": [
    {
     "name": "stdout",
     "output_type": "stream",
     "text": [
      "0.13611174131678744\n",
      "0.12175456179623251\n",
      "0.15503383292519657\n"
     ]
    }
   ],
   "source": [
    "print(fnn_nl_mape)\n",
    "print(fnn_es_mape)\n",
    "print(fnn_se_mape)\n"
   ]
  },
  {
   "cell_type": "code",
   "execution_count": null,
   "id": "28295753",
   "metadata": {},
   "outputs": [],
   "source": []
  }
 ],
 "metadata": {
  "kernelspec": {
   "display_name": "Python 3 (ipykernel)",
   "language": "python",
   "name": "python3"
  },
  "language_info": {
   "codemirror_mode": {
    "name": "ipython",
    "version": 3
   },
   "file_extension": ".py",
   "mimetype": "text/x-python",
   "name": "python",
   "nbconvert_exporter": "python",
   "pygments_lexer": "ipython3",
   "version": "3.9.7"
  }
 },
 "nbformat": 4,
 "nbformat_minor": 5
}
