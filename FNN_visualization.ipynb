{
 "cells": [
  {
   "cell_type": "code",
   "execution_count": 71,
   "id": "fd363fff",
   "metadata": {},
   "outputs": [],
   "source": [
    "import numpy as np\n",
    "import pandas as pd"
   ]
  },
  {
   "cell_type": "code",
   "execution_count": 72,
   "id": "bb4013e2",
   "metadata": {},
   "outputs": [],
   "source": [
    "labels = pd.read_csv('FINAL_RESULTS/FNN_reference_model_SE/labels.csv')\n",
    "predictions = pd.read_csv('FINAL_RESULTS/FNN_reference_model_SE/prediction.csv')\n",
    "x_vals = pd.read_csv('FINAL_RESULTS/FNN_reference_model_SE/x_vals.csv')"
   ]
  },
  {
   "cell_type": "code",
   "execution_count": 73,
   "id": "b1946390",
   "metadata": {},
   "outputs": [
    {
     "data": {
      "text/html": [
       "<div>\n",
       "<style scoped>\n",
       "    .dataframe tbody tr th:only-of-type {\n",
       "        vertical-align: middle;\n",
       "    }\n",
       "\n",
       "    .dataframe tbody tr th {\n",
       "        vertical-align: top;\n",
       "    }\n",
       "\n",
       "    .dataframe thead th {\n",
       "        text-align: right;\n",
       "    }\n",
       "</style>\n",
       "<table border=\"1\" class=\"dataframe\">\n",
       "  <thead>\n",
       "    <tr style=\"text-align: right;\">\n",
       "      <th></th>\n",
       "      <th>Unnamed: 0</th>\n",
       "      <th>DA.Price</th>\n",
       "    </tr>\n",
       "  </thead>\n",
       "  <tbody>\n",
       "    <tr>\n",
       "      <th>0</th>\n",
       "      <td>16265</td>\n",
       "      <td>44.21</td>\n",
       "    </tr>\n",
       "    <tr>\n",
       "      <th>1</th>\n",
       "      <td>1895</td>\n",
       "      <td>24.49</td>\n",
       "    </tr>\n",
       "    <tr>\n",
       "      <th>2</th>\n",
       "      <td>21496</td>\n",
       "      <td>32.86</td>\n",
       "    </tr>\n",
       "    <tr>\n",
       "      <th>3</th>\n",
       "      <td>16309</td>\n",
       "      <td>44.44</td>\n",
       "    </tr>\n",
       "    <tr>\n",
       "      <th>4</th>\n",
       "      <td>57576</td>\n",
       "      <td>49.85</td>\n",
       "    </tr>\n",
       "    <tr>\n",
       "      <th>...</th>\n",
       "      <td>...</td>\n",
       "      <td>...</td>\n",
       "    </tr>\n",
       "    <tr>\n",
       "      <th>61059</th>\n",
       "      <td>556</td>\n",
       "      <td>26.25</td>\n",
       "    </tr>\n",
       "    <tr>\n",
       "      <th>61060</th>\n",
       "      <td>59879</td>\n",
       "      <td>12.73</td>\n",
       "    </tr>\n",
       "    <tr>\n",
       "      <th>61061</th>\n",
       "      <td>28885</td>\n",
       "      <td>36.48</td>\n",
       "    </tr>\n",
       "    <tr>\n",
       "      <th>61062</th>\n",
       "      <td>39705</td>\n",
       "      <td>37.94</td>\n",
       "    </tr>\n",
       "    <tr>\n",
       "      <th>61063</th>\n",
       "      <td>60656</td>\n",
       "      <td>41.34</td>\n",
       "    </tr>\n",
       "  </tbody>\n",
       "</table>\n",
       "<p>61064 rows × 2 columns</p>\n",
       "</div>"
      ],
      "text/plain": [
       "       Unnamed: 0  DA.Price\n",
       "0           16265     44.21\n",
       "1            1895     24.49\n",
       "2           21496     32.86\n",
       "3           16309     44.44\n",
       "4           57576     49.85\n",
       "...           ...       ...\n",
       "61059         556     26.25\n",
       "61060       59879     12.73\n",
       "61061       28885     36.48\n",
       "61062       39705     37.94\n",
       "61063       60656     41.34\n",
       "\n",
       "[61064 rows x 2 columns]"
      ]
     },
     "execution_count": 73,
     "metadata": {},
     "output_type": "execute_result"
    }
   ],
   "source": [
    "x_vals"
   ]
  },
  {
   "cell_type": "code",
   "execution_count": 74,
   "id": "5a438c46",
   "metadata": {},
   "outputs": [],
   "source": [
    "labels_arr = labels['MW.Load'].to_numpy()\n",
    "pred_arr = predictions['predict_class'].to_numpy()\n",
    "x_arr = x_vals['DA.Price']"
   ]
  },
  {
   "cell_type": "code",
   "execution_count": 75,
   "id": "0851dd90",
   "metadata": {},
   "outputs": [
    {
     "data": {
      "text/plain": [
       "array([1294, 1240, 1042, ..., 1141,  916, 1188], dtype=int64)"
      ]
     },
     "execution_count": 75,
     "metadata": {},
     "output_type": "execute_result"
    }
   ],
   "source": [
    "labels_arr"
   ]
  },
  {
   "cell_type": "code",
   "execution_count": 76,
   "id": "105d5e60",
   "metadata": {},
   "outputs": [
    {
     "data": {
      "text/plain": [
       "array([1179.84765625, 1107.81311035, 1145.28540039, ..., 1151.97521973,\n",
       "       1157.19213867, 1169.6932373 ])"
      ]
     },
     "execution_count": 76,
     "metadata": {},
     "output_type": "execute_result"
    }
   ],
   "source": [
    "pred_arr"
   ]
  },
  {
   "cell_type": "code",
   "execution_count": 77,
   "id": "28ab6e47",
   "metadata": {},
   "outputs": [
    {
     "name": "stdout",
     "output_type": "stream",
     "text": [
      "61064\n",
      "61064\n",
      "61064\n"
     ]
    }
   ],
   "source": [
    "print(len(labels_arr))\n",
    "print(len(pred_arr))\n",
    "print(len(x_arr))"
   ]
  },
  {
   "cell_type": "code",
   "execution_count": 78,
   "id": "1230a28f",
   "metadata": {},
   "outputs": [],
   "source": [
    "def MAPELoss2(output, target):\n",
    "    return np.mean(np.abs((target - output) / target))\n"
   ]
  },
  {
   "cell_type": "code",
   "execution_count": 79,
   "id": "6d9b1239",
   "metadata": {},
   "outputs": [
    {
     "name": "stdout",
     "output_type": "stream",
     "text": [
      "0.15503383292519485\n"
     ]
    }
   ],
   "source": [
    "print(MAPELoss2(pred_arr, labels_arr))"
   ]
  },
  {
   "cell_type": "code",
   "execution_count": 80,
   "id": "d037aac9",
   "metadata": {},
   "outputs": [],
   "source": [
    "country = 'SE1'\n",
    "stdev = 3\n",
    "df = pd.read_csv(f'{country}_DA_price_v_actual_load_stdev_{stdev}.csv')\n",
    "\n",
    "df = df[df['DA Price'] > 0]"
   ]
  },
  {
   "cell_type": "code",
   "execution_count": 81,
   "id": "60a4f102",
   "metadata": {},
   "outputs": [
    {
     "name": "stdout",
     "output_type": "stream",
     "text": [
      "61064\n",
      "61041\n"
     ]
    }
   ],
   "source": [
    "prices = df['DA Price']\n",
    "print(len(x_arr))\n",
    "print(len(df))"
   ]
  },
  {
   "cell_type": "code",
   "execution_count": 82,
   "id": "57ca1875",
   "metadata": {},
   "outputs": [],
   "source": [
    "x_arr1 = np.array([])\n",
    "labels_arr1 = np.array([])\n",
    "pred_arr1 = np.array([])\n",
    "\n",
    "for i in range(len(x_arr)):\n",
    "    if not x_arr[i] <= 0:\n",
    "        x_arr1 = np.append(x_arr1, x_arr[i])\n",
    "        labels_arr1 = np.append(labels_arr1, labels_arr[i])\n",
    "        pred_arr1 = np.append(pred_arr1, pred_arr[i])\n",
    "        #x_arr = np.delete(x_arr, i)\n",
    "        #labels_arr = np.delete(labels_arr, i)\n",
    "        #pred_arr = np.delete(pred_arr, i)"
   ]
  },
  {
   "cell_type": "code",
   "execution_count": 83,
   "id": "278448df",
   "metadata": {},
   "outputs": [
    {
     "data": {
      "image/png": "[encoded data removed]",
      "text/plain": [
       "<Figure size 432x288 with 1 Axes>"
      ]
     },
     "metadata": {
      "needs_background": "light"
     },
     "output_type": "display_data"
    }
   ],
   "source": [
    "import matplotlib.pyplot as plt\n",
    "\n",
    "plt.title('Price versus demand - Functional Neural Network (Sweden)')\n",
    "plt.xlabel('Price (Euro/MW)')\n",
    "plt.ylabel('Consumption Demand (MW)')\n",
    "plt.scatter(x_arr1, labels_arr1, c='g', s=2)\n",
    "plt.scatter(x_arr1, pred_arr1, c='r', s=2)\n",
    "plt.show()"
   ]
  },
  {
   "cell_type": "code",
   "execution_count": null,
   "id": "26bbf5c2",
   "metadata": {},
   "outputs": [],
   "source": []
  }
 ],
 "metadata": {
  "kernelspec": {
   "display_name": "Python 3 (ipykernel)",
   "language": "python",
   "name": "python3"
  },
  "language_info": {
   "codemirror_mode": {
    "name": "ipython",
    "version": 3
   },
   "file_extension": ".py",
   "mimetype": "text/x-python",
   "name": "python",
   "nbconvert_exporter": "python",
   "pygments_lexer": "ipython3",
   "version": "3.9.7"
  }
 },
 "nbformat": 4,
 "nbformat_minor": 5
}
